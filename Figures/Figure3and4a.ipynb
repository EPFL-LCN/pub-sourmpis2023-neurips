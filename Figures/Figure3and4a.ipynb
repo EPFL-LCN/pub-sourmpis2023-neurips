{
 "cells": [
  {
   "cell_type": "code",
   "execution_count": 1,
   "metadata": {},
   "outputs": [
    {
     "name": "stderr",
     "output_type": "stream",
     "text": [
      "/home/sourmpis/.conda/envs/trialmatch/lib/python3.9/site-packages/tqdm/auto.py:22: TqdmWarning: IProgress not found. Please update jupyter and ipywidgets. See https://ipywidgets.readthedocs.io/en/stable/user_install.html\n",
      "  from .autonotebook import tqdm as notebook_tqdm\n",
      "/home/sourmpis/.conda/envs/trialmatch/lib/python3.9/site-packages/umap/distances.py:1063: NumbaDeprecationWarning: The 'nopython' keyword argument was not supplied to the 'numba.jit' decorator. The implicit default value for this argument is currently False, but it will be changed to True in Numba 0.59.0. See https://numba.readthedocs.io/en/stable/reference/deprecation.html#deprecation-of-object-mode-fall-back-behaviour-when-using-jit for details.\n",
      "  @numba.jit()\n",
      "/home/sourmpis/.conda/envs/trialmatch/lib/python3.9/site-packages/umap/distances.py:1071: NumbaDeprecationWarning: The 'nopython' keyword argument was not supplied to the 'numba.jit' decorator. The implicit default value for this argument is currently False, but it will be changed to True in Numba 0.59.0. See https://numba.readthedocs.io/en/stable/reference/deprecation.html#deprecation-of-object-mode-fall-back-behaviour-when-using-jit for details.\n",
      "  @numba.jit()\n",
      "/home/sourmpis/.conda/envs/trialmatch/lib/python3.9/site-packages/umap/distances.py:1086: NumbaDeprecationWarning: The 'nopython' keyword argument was not supplied to the 'numba.jit' decorator. The implicit default value for this argument is currently False, but it will be changed to True in Numba 0.59.0. See https://numba.readthedocs.io/en/stable/reference/deprecation.html#deprecation-of-object-mode-fall-back-behaviour-when-using-jit for details.\n",
      "  @numba.jit()\n",
      "/home/sourmpis/.conda/envs/trialmatch/lib/python3.9/site-packages/umap/umap_.py:660: NumbaDeprecationWarning: The 'nopython' keyword argument was not supplied to the 'numba.jit' decorator. The implicit default value for this argument is currently False, but it will be changed to True in Numba 0.59.0. See https://numba.readthedocs.io/en/stable/reference/deprecation.html#deprecation-of-object-mode-fall-back-behaviour-when-using-jit for details.\n",
      "  @numba.jit()\n"
     ]
    }
   ],
   "source": [
    "from infopath.model_loader import load_model_and_optimizer\n",
    "from infopath.config import load_training_opt\n",
    "from utils.functions import load_data\n",
    "from infopath.lick_classifier import prepare_classifier\n",
    "from utils.functions import return_trial_type, pear_corr, explained, trial_metric, trial_type_perc\n",
    "import matplotlib.pyplot as plt\n",
    "from scipy.stats import ttest_ind\n",
    "from utils.plot_utils import plot_with_size, strip_right_top_axis, hit_miss_plot, retrieve_jaw_trial_type, pca_plot\n",
    "\n",
    "import numpy as np\n",
    "import torch\n",
    "import os\n",
    "%reload_ext autoreload\n",
    "%autoreload 2\n",
    "font = {\"size\": 6, \"family\":\"arial\"}\n",
    "import matplotlib\n",
    "\n",
    "matplotlib.rc(\"font\", **font)"
   ]
  },
  {
   "cell_type": "code",
   "execution_count": 2,
   "metadata": {},
   "outputs": [],
   "source": [
    "os.chdir(\"..\")"
   ]
  },
  {
   "cell_type": "code",
   "execution_count": 3,
   "metadata": {},
   "outputs": [],
   "source": [
    "log_path = \"log_dir/trained_models/main_model/\""
   ]
  },
  {
   "cell_type": "code",
   "execution_count": 4,
   "metadata": {},
   "outputs": [],
   "source": [
    "opt = load_training_opt(log_path)\n",
    "opt.log_path = log_path\n",
    "opt.device = \"cpu\"\n",
    "model = load_model_and_optimizer(opt, reload=True, last_best=\"last\")[0]"
   ]
  },
  {
   "cell_type": "code",
   "execution_count": 5,
   "metadata": {},
   "outputs": [
    {
     "name": "stderr",
     "output_type": "stream",
     "text": [
      "/home/sourmpis/lcn_server/sourmpis/Projects/TrialMatching/datasets/dataloader.py:124: UserWarning: Boolean Series key will be reindexed to match DataFrame index.\n",
      "  trial_info = trial_info[(lick_trials & reaction_time) | no_lick_trials]\n",
      "/home/sourmpis/lcn_server/sourmpis/Projects/TrialMatching/datasets/dataloader.py:124: UserWarning: Boolean Series key will be reindexed to match DataFrame index.\n",
      "  trial_info = trial_info[(lick_trials & reaction_time) | no_lick_trials]\n"
     ]
    }
   ],
   "source": [
    "(\n",
    "    train_spikes,\n",
    "    train_jaw,\n",
    "    session_info_train,\n",
    "    test_spikes,\n",
    "    test_jaw,\n",
    "    session_info_test,\n",
    ") = load_data(model)"
   ]
  },
  {
   "cell_type": "code",
   "execution_count": 6,
   "metadata": {},
   "outputs": [
    {
     "name": "stderr",
     "output_type": "stream",
     "text": [
      "/tmp/ipykernel_1557888/2164605856.py:7: UserWarning: To copy construct from a tensor, it is recommended to use sourceTensor.clone().detach() or sourceTensor.clone().detach().requires_grad_(True), rather than torch.tensor(sourceTensor).\n",
      "  model.filter_fun1(torch.tensor(time_vector)[:, None, None]) / model.timestep\n",
      "100%|██████████| 150/150 [00:04<00:00, 30.47it/s, test_accuracy 0.944]\n"
     ]
    }
   ],
   "source": [
    "filt_jaw_train = model.filter_fun1(train_jaw) \n",
    "filt_jaw_test = model.filter_fun1(test_jaw) \n",
    "filt_data_train = model.filter_fun1(train_spikes) / model.timestep\n",
    "filt_data_test = model.filter_fun1(test_spikes) / model.timestep\n",
    "time_vector = torch.arange(int(np.round((model.opt.stop-model.opt.start)/opt.dt / 0.001)))*model.timestep + opt.start\n",
    "filt_time = (\n",
    "    model.filter_fun1(torch.tensor(time_vector)[:, None, None]) / model.timestep\n",
    ")[:, 0, 0] * model.timestep\n",
    "\n",
    "lick_classifier = prepare_classifier(\n",
    "    filt_jaw_train,\n",
    "    filt_jaw_test,\n",
    "    session_info_train,\n",
    "    session_info_test,\n",
    "    opt.device,\n",
    ")"
   ]
  },
  {
   "cell_type": "code",
   "execution_count": 7,
   "metadata": {},
   "outputs": [
    {
     "name": "stderr",
     "output_type": "stream",
     "text": [
      "/tmp/ipykernel_1557888/2777201824.py:16: UserWarning: To copy construct from a tensor, it is recommended to use sourceTensor.clone().detach() or sourceTensor.clone().detach().requires_grad_(True), rather than torch.tensor(sourceTensor).\n",
      "  stims = torch.tensor(stims, device=opt.device)\n"
     ]
    },
    {
     "name": "stdout",
     "output_type": "stream",
     "text": [
      "seed:  0\n",
      "lick based:  tensor([0.2150, 0.2850, 0.4100, 0.0900])\n",
      "template matching: tensor([0.1100, 0.2750, 0.4350, 0.1800])\n",
      "threshold based:  tensor([0.2050, 0.2950, 0.3550, 0.1450])\n",
      "seed:  1\n",
      "lick based:  tensor([0.1650, 0.3350, 0.4200, 0.0800])\n",
      "template matching: tensor([0.0950, 0.3250, 0.4250, 0.1550])\n",
      "threshold based:  tensor([0.1550, 0.3450, 0.3700, 0.1300])\n",
      "seed:  2\n"
     ]
    },
    {
     "name": "stdout",
     "output_type": "stream",
     "text": [
      "lick based:  tensor([0.1800, 0.3200, 0.4200, 0.0800])\n",
      "template matching: tensor([0.0800, 0.3450, 0.4150, 0.1600])\n",
      "threshold based:  tensor([0.1700, 0.3300, 0.3450, 0.1550])\n",
      "seed:  3\n",
      "lick based:  tensor([0.1950, 0.3050, 0.3950, 0.1050])\n",
      "template matching: tensor([0.0700, 0.3000, 0.4150, 0.2150])\n",
      "threshold based:  tensor([0.1450, 0.3550, 0.3450, 0.1550])\n",
      "seed:  4\n",
      "lick based:  tensor([0.2300, 0.2700, 0.4100, 0.0900])\n",
      "template matching: tensor([0.1200, 0.3250, 0.4000, 0.1550])\n",
      "threshold based:  tensor([0.2100, 0.2900, 0.3650, 0.1350])\n",
      "seed:  5\n",
      "lick based:  tensor([0.1650, 0.3350, 0.4250, 0.0750])\n",
      "template matching: tensor([0.0900, 0.3200, 0.4350, 0.1550])\n",
      "threshold based:  tensor([0.1350, 0.3650, 0.4000, 0.1000])\n"
     ]
    }
   ],
   "source": [
    "num_runs = 6 # for notm 12 last # for normal 11 last # for notrialoffset 5 best # for latent 4 best\n",
    "trial_types_model = np.zeros((4, num_runs))\n",
    "trial_types_model1 = np.zeros((4, num_runs))\n",
    "test_loss, t_trial, perc_missmatch = [], [], []\n",
    "for i in   range(0,num_runs): # [4]: # \n",
    "    print(\"seed: \", i)\n",
    "    with torch.no_grad():\n",
    "        seed = i\n",
    "        batch_size = 200\n",
    "        model.opt.batch_size = batch_size\n",
    "        torch.cuda.empty_cache()\n",
    "        torch.manual_seed(i)\n",
    "        all_stims = torch.zeros(batch_size)\n",
    "        all_stims[:int(batch_size/2)] = 1\n",
    "        stims = all_stims[torch.randperm(all_stims.shape[0])]\n",
    "        stims = torch.tensor(stims, device=opt.device)\n",
    "\n",
    "        state = model.steady_state()\n",
    "        input_spikes = model.input_spikes(stims)\n",
    "        model.rsnn.sample_mem_noise(\n",
    "            input_spikes.shape[0], input_spikes.shape[1]\n",
    "        )\n",
    "        mem_noise = model.rsnn.mem_noise.clone()\n",
    "        model_spikes, voltages, model_jaw, state = model.step(\n",
    "            input_spikes, state, mem_noise=mem_noise\n",
    "        )\n",
    "        filt_model= model.filter_fun1(model_spikes) / model.timestep\n",
    "        filt_jaw = model.filter_fun1(model_jaw) \n",
    "        \n",
    "    trial_type_pred_lick, model_perc = return_trial_type(\n",
    "        model,\n",
    "        filt_data_train,\n",
    "        filt_model,\n",
    "        filt_jaw_train,\n",
    "        filt_jaw,\n",
    "        session_info_train,\n",
    "        stims,\n",
    "        lick_classifier,\n",
    "    )\n",
    "    \n",
    "    trial_types_model1[:,i] = model_perc.cpu().numpy()\n",
    "    print(\"lick based: \", model_perc)\n",
    "\n",
    "    trial_type_pred, model_perc = return_trial_type(\n",
    "        model,\n",
    "        filt_data_train,\n",
    "        filt_model,\n",
    "        filt_jaw_train,\n",
    "        filt_jaw,\n",
    "        session_info_train,\n",
    "        stims,\n",
    "        None,\n",
    "    )\n",
    "    trial_types_model[:,i] = model_perc.cpu().numpy()\n",
    "\n",
    "    print(\"template matching:\", model_perc)#, trial_type_pred_spikes.unique())\n",
    "    \n",
    "    licks = torch.zeros(batch_size).to(model_spikes[0].device)\n",
    "    thr = 2\n",
    "    licks[stims>0] = (filt_jaw[filt_time>1,:,0][:,stims>0.5].max(0)[0] > thr)*1.\n",
    "    licks[stims==0] = (filt_jaw[filt_time>1,:,0][:,stims<0.5].max(0)[0] > thr)*1.\n",
    "    tt = (1-stims) * 2 +  licks\n",
    "    perc = tt.unique(return_counts=True)[1]/tt.shape[0]\n",
    "    print(\"threshold based: \", perc)\n"
   ]
  },
  {
   "cell_type": "code",
   "execution_count": 8,
   "metadata": {},
   "outputs": [
    {
     "data": {
      "image/png": "[encoded data removed]",
      "text/plain": [
       "<Figure size 312.74x194.63 with 1 Axes>"
      ]
     },
     "metadata": {},
     "output_type": "display_data"
    }
   ],
   "source": [
    "# Figure 3 B\n",
    "# baseline firing rates, before any stimulation\n",
    "\n",
    "firing_rates_data = model.firing_rate\n",
    "start = int(-opt.start / model.timestep)\n",
    "firing_rates_model = model_spikes[:start].mean((0,1)) / model.timestep\n",
    "firing_rates_model = firing_rates_model.cpu().numpy()\n",
    "\n",
    "fig, ax = plot_with_size(40,25)\n",
    "bins = np.linspace(-2, 2, 30)\n",
    "bins = 10**bins\n",
    "ax.hist(firing_rates_data, bins=bins, alpha=0.3, label=\"Data\", color=\"blue\")\n",
    "ax.hist(firing_rates_model, bins=bins, alpha=0.3, label=\"Model\", color=\"red\")\n",
    "plt.xscale(\"log\")\n",
    "strip_right_top_axis(ax)\n",
    "ax.set_ylabel(\"Count\")\n",
    "ax.set_xlabel(\"Firing Rate (Hz)\")\n",
    "ax.tick_params(axis=\"both\", which=\"major\", pad=-2)\n",
    "ax.legend()\n",
    "fig.savefig(\"Figures/Figure3/firing_rates.pdf\")"
   ]
  },
  {
   "cell_type": "code",
   "execution_count": 9,
   "metadata": {},
   "outputs": [
    {
     "name": "stderr",
     "output_type": "stream",
     "text": [
      "/home/sourmpis/lcn_server/sourmpis/Projects/TrialMatching/datasets/dataloader.py:124: UserWarning: Boolean Series key will be reindexed to match DataFrame index.\n",
      "  trial_info = trial_info[(lick_trials & reaction_time) | no_lick_trials]\n",
      "/home/sourmpis/lcn_server/sourmpis/Projects/TrialMatching/datasets/dataloader.py:124: UserWarning: Boolean Series key will be reindexed to match DataFrame index.\n",
      "  trial_info = trial_info[(lick_trials & reaction_time) | no_lick_trials]\n",
      "100%|██████████| 150/150 [00:04<00:00, 30.31it/s, test_accuracy 0.941]\n"
     ]
    }
   ],
   "source": [
    "# we repeat the process for the case without trial matching,\n",
    "# unfortunately the model that we rerun without trial matching had different initialization so we need to rerun everything\n",
    "log_path_notm = \"log_dir/trained_models/no_trialmatching_model/\"\n",
    "opt_notm = load_training_opt(log_path_notm)\n",
    "opt_notm.log_path = log_path_notm\n",
    "opt_notm.device = \"cpu\"\n",
    "model_notm = load_model_and_optimizer(opt_notm, reload=True, last_best=\"last\")[0]\n",
    "(\n",
    "    train_spikes_notm,\n",
    "    train_jaw_notm,\n",
    "    session_info_train_notm,\n",
    "    test_spikes_notm,\n",
    "    test_jaw_notm,\n",
    "    session_info_test_notm,\n",
    ") = load_data(model_notm)\n",
    "filt_jaw_train_notm = model.filter_fun1(train_jaw_notm) \n",
    "filt_jaw_test_notm = model.filter_fun1(test_jaw_notm) \n",
    "filt_data_train_notm = model.filter_fun1(train_spikes_notm) / model.timestep\n",
    "filt_data_test_notm = model.filter_fun1(test_spikes_notm) / model.timestep\n",
    "\n",
    "lick_classifier = prepare_classifier(\n",
    "    filt_jaw_train_notm,\n",
    "    filt_jaw_test_notm,\n",
    "    session_info_train_notm,\n",
    "    session_info_test_notm,\n",
    "    opt.device,\n",
    ")"
   ]
  },
  {
   "cell_type": "code",
   "execution_count": 10,
   "metadata": {},
   "outputs": [
    {
     "name": "stderr",
     "output_type": "stream",
     "text": [
      "/tmp/ipykernel_1557888/3887385733.py:16: UserWarning: To copy construct from a tensor, it is recommended to use sourceTensor.clone().detach() or sourceTensor.clone().detach().requires_grad_(True), rather than torch.tensor(sourceTensor).\n",
      "  stims = torch.tensor(stims, device=opt.device)\n"
     ]
    },
    {
     "name": "stdout",
     "output_type": "stream",
     "text": [
      "seed:  0\n",
      "lick based:  tensor([0.5000, 0.0000, 0.5000, 0.0000])\n",
      "template matching: tensor([0.0000, 0.2500, 0.4850, 0.2650])\n",
      "threshold based:  tensor([0.2250, 0.2750, 0.3100, 0.1900])\n",
      "seed:  1\n"
     ]
    },
    {
     "name": "stdout",
     "output_type": "stream",
     "text": [
      "lick based:  tensor([0.5000, 0.0000, 0.5000, 0.0000])\n",
      "template matching: tensor([0.0000, 0.2650, 0.4650, 0.2700])\n",
      "threshold based:  tensor([0.2450, 0.2550, 0.2900, 0.2100])\n",
      "seed:  2\n",
      "lick based:  tensor([0.5000, 0.0000, 0.5000, 0.0000])\n",
      "template matching: tensor([0.0000, 0.2300, 0.5250, 0.2450])\n",
      "threshold based:  tensor([0.2850, 0.2150, 0.2500, 0.2500])\n",
      "seed:  3\n",
      "lick based:  tensor([0.5000, 0.0000, 0.5000, 0.0000])\n",
      "template matching: tensor([0.0000, 0.2500, 0.5300, 0.2200])\n",
      "threshold based:  tensor([0.2650, 0.2350, 0.2700, 0.2300])\n",
      "seed:  4\n",
      "lick based:  tensor([0.5000, 0.0000, 0.5000, 0.0000])\n",
      "template matching: tensor([0.0000, 0.2600, 0.4900, 0.2500])\n",
      "threshold based:  tensor([0.2850, 0.2150, 0.2500, 0.2500])\n",
      "seed:  5\n",
      "lick based:  tensor([0.5000, 0.0000, 0.5000, 0.0000])\n",
      "template matching: tensor([0.0000, 0.2350, 0.5550, 0.2100])\n",
      "threshold based:  tensor([0.1350, 0.3650, 0.4000, 0.1000])\n"
     ]
    }
   ],
   "source": [
    "num_runs = 6\n",
    "trial_types_model_notm = np.zeros((4, num_runs))\n",
    "trial_types_model1_notm = np.zeros((4, num_runs))\n",
    "test_loss, t_trial, perc_missmatch = [], [], []\n",
    "for i in   range(0,num_runs):\n",
    "    print(\"seed: \", i)\n",
    "    with torch.no_grad():\n",
    "        seed = i\n",
    "        batch_size = 200\n",
    "        model_notm.opt.batch_size = batch_size\n",
    "        torch.cuda.empty_cache()\n",
    "        torch.manual_seed(i)\n",
    "        all_stims = torch.zeros(batch_size)\n",
    "        all_stims[:int(batch_size/2)] = 1\n",
    "        stims = all_stims[torch.randperm(all_stims.shape[0])]\n",
    "        stims = torch.tensor(stims, device=opt.device)\n",
    "\n",
    "        state = model_notm.steady_state()\n",
    "        input_spikes = model_notm.input_spikes(stims)\n",
    "        model_notm.rsnn.sample_mem_noise(\n",
    "            input_spikes.shape[0], input_spikes.shape[1]\n",
    "        )\n",
    "        mem_noise = model_notm.rsnn.mem_noise.clone()\n",
    "        model_spikes_notm, voltages, model_jaw_notm, state = model_notm.step(\n",
    "            input_spikes, state, mem_noise=mem_noise\n",
    "        )\n",
    "        filt_model_notm= model_notm.filter_fun1(model_spikes_notm) / model_notm.timestep\n",
    "        filt_jaw_notm = model_notm.filter_fun1(model_jaw_notm) \n",
    "        \n",
    "    trial_type_pred_lick_notm, model_perc = return_trial_type(\n",
    "        model_notm,\n",
    "        filt_data_train_notm,\n",
    "        filt_model_notm,\n",
    "        filt_jaw_train_notm,\n",
    "        filt_jaw_notm,\n",
    "        session_info_train_notm,\n",
    "        stims,\n",
    "        lick_classifier,\n",
    "    )\n",
    "    \n",
    "    trial_types_model1_notm[:,i] = model_perc.cpu().numpy()\n",
    "    print(\"lick based: \", model_perc)\n",
    "\n",
    "    trial_type_pred_lick_notm, model_perc = return_trial_type(\n",
    "        model_notm,\n",
    "        filt_data_train_notm,\n",
    "        filt_model_notm,\n",
    "        filt_jaw_train_notm,\n",
    "        filt_jaw_notm,\n",
    "        session_info_train_notm,\n",
    "        stims,\n",
    "        None,\n",
    "    )\n",
    "    trial_types_model_notm[:,i] = model_perc.cpu().numpy()\n",
    "\n",
    "    print(\"template matching:\", model_perc)#, trial_type_pred_spikes.unique())\n",
    "    \n",
    "    licks = torch.zeros(batch_size).to(model_spikes[0].device)\n",
    "    thr = 2\n",
    "    licks[stims>0] = (filt_jaw[filt_time>1,:,0][:,stims>0.5].max(0)[0] > thr)*1.\n",
    "    licks[stims==0] = (filt_jaw[filt_time>1,:,0][:,stims<0.5].max(0)[0] > thr)*1.\n",
    "    tt = (1-stims) * 2 +  licks\n",
    "    perc = tt.unique(return_counts=True)[1]/tt.shape[0]\n",
    "    print(\"threshold based: \", perc)\n"
   ]
  },
  {
   "cell_type": "code",
   "execution_count": 11,
   "metadata": {},
   "outputs": [
    {
     "name": "stdout",
     "output_type": "stream",
     "text": [
      "0.3140556 0.30180085 0.29139146 Ttest_indResult(statistic=1.03209031586573, pvalue=0.3021602031975834)\n",
      "0.008562792145079993 0.008216842823191722 0.008269072540344731\n"
     ]
    },
    {
     "data": {
      "image/png": "[encoded data removed]",
      "text/plain": [
       "<Figure size 352.11x174.945 with 1 Axes>"
      ]
     },
     "metadata": {},
     "output_type": "display_data"
    }
   ],
   "source": [
    "torch.manual_seed(0)\n",
    "trials = torch.randperm(batch_size)[:200]\n",
    "psth_model = (filt_model[:,trials].nanmean(1).T) / model.timestep\n",
    "psth_data_train = (filt_data_train.nanmean(1).T) / model.timestep\n",
    "psth_data_test = (filt_data_test.nanmean(1).T) / model.timestep\n",
    "psth_model_notm = (filt_model_notm[:,trials].nanmean(1).T) / model.timestep\n",
    "psth_data_test_notm = (filt_data_test_notm.nanmean(1).T) / model.timestep\n",
    "\n",
    "psth_model_notm = psth_model_notm[model_notm.firing_rate>1]\n",
    "psth_data_test_notm = psth_data_test_notm[model_notm.firing_rate>1]\n",
    "psth_model = psth_model[model.firing_rate>1]\n",
    "psth_data_train = psth_data_train[model.firing_rate>1]\n",
    "psth_data_test = psth_data_test[model.firing_rate>1]\n",
    "\n",
    "p_corr_notm = pear_corr(psth_data_test_notm, psth_model_notm, dim=1, eps=1e-7)\n",
    "p_corr = pear_corr(psth_data_test, psth_model, dim=1, eps=1e-7)\n",
    "p_corr_train = pear_corr(psth_data_train, psth_data_test,dim=1, eps=1e-7)\n",
    "std_train = p_corr_train.std()/p_corr_train.shape[0]**0.5\n",
    "std = p_corr.std()/p_corr.shape[0]**0.5\n",
    "print(p_corr_train.mean(), p_corr.mean(), p_corr_notm.mean(), ttest_ind(p_corr_train, p_corr))\n",
    "print(p_corr_train.std()/p_corr_train.shape[0]**0.5, p_corr.std()/p_corr.shape[0]**0.5,   p_corr_notm.std()/p_corr_notm.shape[0]**0.5)\n",
    "\n",
    "\n",
    "r2_fun = lambda x, y : 1-((x-y)**2).mean(1) / ((y.T - y.mean(1))**2).T.mean(1)\n",
    "r2 = explained(psth_data_test, psth_model, dim=1, eps=1e-7)\n",
    "r2_train = explained(psth_data_train, psth_data_test,dim=1, eps=1e-7)\n",
    "\n",
    "with plt.rc_context({\"font.size\":6}):\n",
    "    fig, ax = plot_with_size(45, 22.5)\n",
    "    violin1 = ax.violinplot([p_corr_train], positions=[0], showextrema=False)\n",
    "    violin2 = ax.violinplot([p_corr], positions=[1], showextrema=False)\n",
    "    violin3 = ax.violinplot([p_corr_notm], positions=[2], showextrema=False)\n",
    "    violin1[\"bodies\"][0].set_facecolor(\"black\")\n",
    "    violin2[\"bodies\"][0].set_facecolor(\"black\")\n",
    "    violin3[\"bodies\"][0].set_facecolor(\"black\")\n",
    "    ax.set_xticks([0,1,2])\n",
    "    ax.set_xticklabels([\"Data\\nTraining set\", \"Model with \\ntrial matching\", \"Model without \\ntrial matching\"],)\n",
    "    ax.spines[\"top\"].set_visible(False)\n",
    "    ax.spines[\"right\"].set_visible(False)\n",
    "    ax.scatter([0, 1, 2], [p_corr_train.mean(), p_corr.mean(), p_corr_notm.mean()], color=\"black\", s=10)\n",
    "    fig.savefig(f\"Figures/Figure3/t_neuron_pearson.pdf\")"
   ]
  },
  {
   "cell_type": "code",
   "execution_count": 12,
   "metadata": {},
   "outputs": [
    {
     "name": "stdout",
     "output_type": "stream",
     "text": [
      "0.5300477 0.4962765 0.256801 Ttest_indResult(statistic=4.265650486040116, pvalue=2.0538826726633873e-05)\n",
      "0.00542901609735923 0.0057587998896637795 0.0033747907572445686\n"
     ]
    },
    {
     "data": {
      "image/png": "[encoded data removed]",
      "text/plain": [
       "<Figure size 352.11x174.945 with 1 Axes>"
      ]
     },
     "metadata": {},
     "output_type": "display_data"
    }
   ],
   "source": [
    "torch.manual_seed(0)\n",
    "p_corr_train = trial_metric(\n",
    "    model.filter_fun2(filt_data_train), \n",
    "    model.filter_fun2(filt_data_test), \n",
    "    model.filter_fun2(filt_jaw_train), \n",
    "    model.filter_fun2(filt_jaw_test), \n",
    "    session_info_train, \n",
    "    model, \n",
    "    pear_corr,\n",
    ")\n",
    "p_corr = trial_metric(\n",
    "    model.filter_fun2(filt_data_test), \n",
    "    model.filter_fun2(filt_model),\n",
    "    model.filter_fun2(filt_jaw_test), \n",
    "    model.filter_fun2(filt_jaw), \n",
    "    session_info_train, \n",
    "    model, \n",
    "    pear_corr,\n",
    ")\n",
    "\n",
    "p_corr_notm = trial_metric(\n",
    "    model_notm.filter_fun2(filt_data_test_notm), \n",
    "    model_notm.filter_fun2(filt_model_notm),\n",
    "    model_notm.filter_fun2(filt_jaw_test_notm), \n",
    "    model_notm.filter_fun2(filt_jaw_notm), \n",
    "    session_info_train_notm, \n",
    "    model_notm, \n",
    "    pear_corr,\n",
    ")\n",
    "print(p_corr_train.mean(), p_corr.mean(), p_corr_notm.mean(), ttest_ind(p_corr_train, p_corr))\n",
    "print(p_corr_train.std()/p_corr_train.shape[0]**0.5, p_corr.std()/p_corr.shape[0]**0.5, p_corr_notm.std()/p_corr_notm.shape[0]**0.5)\n",
    "std_train = p_corr_train.std()/p_corr_train.shape[0]**0.5\n",
    "std =  p_corr.std()/p_corr.shape[0]**0.5\n",
    "with plt.rc_context({\"font.size\":6}):\n",
    "    fig, ax = plot_with_size(45, 22.5)\n",
    "    violin1 = ax.violinplot([p_corr_train], positions=[0], showextrema=False)\n",
    "    violin2 = ax.violinplot([p_corr], positions=[1], showextrema=False)\n",
    "    violin3 = ax.violinplot([p_corr_notm], positions=[2], showextrema=False)\n",
    "    violin1[\"bodies\"][0].set_facecolor(\"black\")\n",
    "    violin2[\"bodies\"][0].set_facecolor(\"black\")\n",
    "    violin3[\"bodies\"][0].set_facecolor(\"black\")\n",
    "    ax.set_xticks([0,1,2])\n",
    "    ax.set_xticklabels([\"Data\\nTraining set\", \"Model with \\n trial matching\", \"Model without \\n trial matching\"],)\n",
    "    ax.spines[\"top\"].set_visible(False)\n",
    "    ax.spines[\"right\"].set_visible(False)\n",
    "    ax.scatter([0, 1, 2], [p_corr_train.mean(), p_corr.mean(), p_corr_notm.mean()], color=\"black\", s=10)\n",
    "    ax.set_ylim(-0.16, 1)\n",
    "    fig.savefig(f\"Figures/Figure3/t_trial_pearson.pdf\")\n"
   ]
  },
  {
   "cell_type": "code",
   "execution_count": 13,
   "metadata": {},
   "outputs": [
    {
     "data": {
      "image/png": "[encoded data removed]",
      "text/plain": [
       "<Figure size 391.48x234 with 1 Axes>"
      ]
     },
     "metadata": {},
     "output_type": "display_data"
    }
   ],
   "source": [
    "# Figure 4 A\n",
    "\n",
    "data_perc = trial_type_perc(\n",
    "    session_info_train, num_trial_types=len(opt.trial_types)\n",
    ")\n",
    "color = [\"red\",\"black\",\"blue\",\"green\"]\n",
    "with plt.rc_context({\"font.size\":6, \"font.weight\":\"bold\"}):\n",
    "    fig, ax = plot_with_size(50, 30)\n",
    "    perc_data_mean = data_perc\n",
    "    tt_data_std = ((1 - perc_data_mean) * perc_data_mean)**0.5 # trial_types.std(1) #\n",
    "    perc_95inter = 1.96 * tt_data_std / (194) ** 0.5 #28**0.5\n",
    "    for i, c in enumerate(color):\n",
    "        ax.errorbar(i, perc_data_mean[i], perc_95inter[i], capsize=2, linestyle=\"\",color=color[i], alpha=0.6, zorder=0)\n",
    "    ax.scatter(np.arange(4), perc_data_mean,marker=\"*\", s=100,color=color, edgecolors=\"white\", linewidths=0.5,zorder=1)\n",
    "\n",
    "    perc_model_mean = trial_types_model.mean(1)\n",
    "    tt_model_std = ((1 - perc_model_mean) * perc_model_mean)**0.5 # tt_model.std(1) # \n",
    "    perc_model_95inter = 1.96 * tt_model_std / batch_size**0.5#tt_model.shape[1]**0.5\n",
    "    for i, c in enumerate(color):\n",
    "        ax.errorbar(i+0.2, perc_model_mean[i], perc_model_95inter[i], capsize=2, linestyle=\"\",color=color[i], alpha=0.6,zorder=0) \n",
    "    ax.scatter(np.arange(4)+0.2, perc_model_mean,color=color, edgecolors=\"white\",zorder=1, linewidths=0.5)\n",
    "    \n",
    "    perc_model_mean = trial_types_model_notm.mean(1)\n",
    "    tt_model_std = ((1 - perc_model_mean) * perc_model_mean)**0.5 \n",
    "    perc_model_95inter = 1.96 * tt_model_std / batch_size**0.5\n",
    "    for i, c in enumerate(color):\n",
    "        ax.errorbar(i+0.4, perc_model_mean[i], perc_model_95inter[i], capsize=2, linestyle=\"\",color=color[i], alpha=0.6,zorder=0)\n",
    "    ax.scatter(np.arange(4)+0.4, perc_model_mean, marker=\"s\", color=color, edgecolors=\"white\",zorder=1, linewidths=0.5)\n",
    "    ax.set_xticks([0.2,1.2,2.2,3.2])\n",
    "    ax.set_xticklabels([\"Miss\", \"Hit\", \"CR\", \"FA\"])\n",
    "    ax.set_ylim(0, 0.65)\n",
    "    ax.set_xlim(-0.5, 4)\n",
    "    ax.set_ylabel(\"Probability of trial type\")\n",
    "    fig.savefig(f\"Figures/Figure4/figure4a.pdf\")"
   ]
  },
  {
   "cell_type": "code",
   "execution_count": null,
   "metadata": {},
   "outputs": [],
   "source": []
  }
 ],
 "metadata": {
  "kernelspec": {
   "display_name": "trialmatch",
   "language": "python",
   "name": "python3"
  },
  "language_info": {
   "codemirror_mode": {
    "name": "ipython",
    "version": 3
   },
   "file_extension": ".py",
   "mimetype": "text/x-python",
   "name": "python",
   "nbconvert_exporter": "python",
   "pygments_lexer": "ipython3",
   "version": "3.9.18"
  },
  "orig_nbformat": 4
 },
 "nbformat": 4,
 "nbformat_minor": 2
}
